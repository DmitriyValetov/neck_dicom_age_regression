{
 "cells": [
  {
   "cell_type": "code",
   "execution_count": 1,
   "metadata": {},
   "outputs": [],
   "source": [
    "import os\n",
    "import json\n",
    "import random\n",
    "import numpy as np\n",
    "import pandas as pd\n",
    "from tqdm import tqdm\n",
    "from pathlib import Path\n",
    "import SimpleITK as sitk\n",
    "\n",
    "import torch\n",
    "import torch.nn.functional as F\n",
    "from torchvision.transforms import ToTensor\n",
    "from torch.utils.data import Dataset, DataLoader\n",
    "\n",
    "from torch.optim import Adam\n",
    "from transformers import get_cosine_schedule_with_warmup\n",
    "\n",
    "import matplotlib.pyplot as plt"
   ]
  },
  {
   "cell_type": "code",
   "execution_count": 2,
   "metadata": {},
   "outputs": [],
   "source": [
    "from dataset.augmentation import flip\n",
    "from dataset.preprocessing import whitening\n",
    "\n",
    "from models.resnet_3d import r3d_18, test_r3d_18\n",
    "test_r3d_18()"
   ]
  },
  {
   "cell_type": "markdown",
   "metadata": {},
   "source": [
    "# Data"
   ]
  },
  {
   "cell_type": "code",
   "execution_count": 3,
   "metadata": {},
   "outputs": [],
   "source": [
    "root_path = Path(os.getcwd())\n",
    "dataset_path = root_path.parent/'dataset_V86'"
   ]
  },
  {
   "cell_type": "code",
   "execution_count": 4,
   "metadata": {},
   "outputs": [],
   "source": [
    "df = pd.read_csv(dataset_path/'targets.csv', index_col=0)"
   ]
  },
  {
   "cell_type": "code",
   "execution_count": 5,
   "metadata": {},
   "outputs": [
    {
     "data": {
      "text/html": [
       "<div>\n",
       "<style scoped>\n",
       "    .dataframe tbody tr th:only-of-type {\n",
       "        vertical-align: middle;\n",
       "    }\n",
       "\n",
       "    .dataframe tbody tr th {\n",
       "        vertical-align: top;\n",
       "    }\n",
       "\n",
       "    .dataframe thead th {\n",
       "        text-align: right;\n",
       "    }\n",
       "</style>\n",
       "<table border=\"1\" class=\"dataframe\">\n",
       "  <thead>\n",
       "    <tr style=\"text-align: right;\">\n",
       "      <th></th>\n",
       "      <th>file</th>\n",
       "      <th>target</th>\n",
       "    </tr>\n",
       "  </thead>\n",
       "  <tbody>\n",
       "    <tr>\n",
       "      <th>0</th>\n",
       "      <td>0.npy</td>\n",
       "      <td>59</td>\n",
       "    </tr>\n",
       "    <tr>\n",
       "      <th>1</th>\n",
       "      <td>1.npy</td>\n",
       "      <td>59</td>\n",
       "    </tr>\n",
       "    <tr>\n",
       "      <th>2</th>\n",
       "      <td>10.npy</td>\n",
       "      <td>86</td>\n",
       "    </tr>\n",
       "    <tr>\n",
       "      <th>3</th>\n",
       "      <td>11.npy</td>\n",
       "      <td>86</td>\n",
       "    </tr>\n",
       "    <tr>\n",
       "      <th>4</th>\n",
       "      <td>12.npy</td>\n",
       "      <td>86</td>\n",
       "    </tr>\n",
       "    <tr>\n",
       "      <th>...</th>\n",
       "      <td>...</td>\n",
       "      <td>...</td>\n",
       "    </tr>\n",
       "    <tr>\n",
       "      <th>81</th>\n",
       "      <td>45.npy</td>\n",
       "      <td>29</td>\n",
       "    </tr>\n",
       "    <tr>\n",
       "      <th>82</th>\n",
       "      <td>46.npy</td>\n",
       "      <td>29</td>\n",
       "    </tr>\n",
       "    <tr>\n",
       "      <th>83</th>\n",
       "      <td>47.npy</td>\n",
       "      <td>29</td>\n",
       "    </tr>\n",
       "    <tr>\n",
       "      <th>84</th>\n",
       "      <td>48.npy</td>\n",
       "      <td>25</td>\n",
       "    </tr>\n",
       "    <tr>\n",
       "      <th>85</th>\n",
       "      <td>49.npy</td>\n",
       "      <td>25</td>\n",
       "    </tr>\n",
       "  </tbody>\n",
       "</table>\n",
       "<p>86 rows × 2 columns</p>\n",
       "</div>"
      ],
      "text/plain": [
       "      file  target\n",
       "0    0.npy      59\n",
       "1    1.npy      59\n",
       "2   10.npy      86\n",
       "3   11.npy      86\n",
       "4   12.npy      86\n",
       "..     ...     ...\n",
       "81  45.npy      29\n",
       "82  46.npy      29\n",
       "83  47.npy      29\n",
       "84  48.npy      25\n",
       "85  49.npy      25\n",
       "\n",
       "[86 rows x 2 columns]"
      ]
     },
     "execution_count": 5,
     "metadata": {},
     "output_type": "execute_result"
    }
   ],
   "source": [
    "df"
   ]
  },
  {
   "cell_type": "code",
   "execution_count": 6,
   "metadata": {},
   "outputs": [],
   "source": [
    "all_pairs = [ (str(dataset_path/'npys'/df.iloc[i]['file']), df.iloc[i]['target']) for i in range(len(df))]\n",
    "# (abs apth, age)"
   ]
  },
  {
   "cell_type": "code",
   "execution_count": 7,
   "metadata": {},
   "outputs": [
    {
     "name": "stdout",
     "output_type": "stream",
     "text": [
      "torch.Size([1, 64, 64, 64]) tensor([59.])\n",
      "tensor([59.]) torch.FloatTensor\n"
     ]
    },
    {
     "data": {
      "text/plain": [
       "<matplotlib.image.AxesImage at 0x7fde02426850>"
      ]
     },
     "execution_count": 7,
     "metadata": {},
     "output_type": "execute_result"
    },
    {
     "data": {
      "image/png": "[encoded data removed]",
      "text/plain": [
       "<Figure size 432x288 with 1 Axes>"
      ]
     },
     "metadata": {
      "needs_background": "light"
     },
     "output_type": "display_data"
    }
   ],
   "source": [
    "class DICOMDataset(Dataset):\n",
    "    def __init__(self, pairs, out_size, mode='test'):\n",
    "        self.pairs = pairs\n",
    "        self.out_size = out_size\n",
    "        self.mode = mode\n",
    "\n",
    "    def __len__(self):\n",
    "        return len(self.pairs)\n",
    "    \n",
    "    def __getitem__(self, i):\n",
    "        file_path, target = self.pairs[i]\n",
    "        image = np.load(file_path)\n",
    "        image = whitening(image)\n",
    "        if self.mode == 'train':\n",
    "            image = flip(image).copy()\n",
    "            \n",
    "        image  = ToTensor()(image).unsqueeze(0).type(torch.FloatTensor).unsqueeze(0)\n",
    "        target = torch.tensor([target]).type(torch.FloatTensor)\n",
    "\n",
    "        d = torch.linspace(-1, 1, self.out_size)\n",
    "        meshx, meshy, meshz = torch.meshgrid((d, d, d))\n",
    "        grid = torch.stack((meshx, meshy, meshz), 3)\n",
    "        grid = grid.unsqueeze(0) # add batch dim\n",
    "        image = F.grid_sample(image, grid, align_corners=True)\n",
    "\n",
    "        return image.squeeze(0), target\n",
    "\n",
    "\n",
    "ds = DICOMDataset(all_pairs, 64, 'train')\n",
    "img, label = ds[0]\n",
    "print(img.shape, label)\n",
    "print(label, img.type())\n",
    "plt.imshow(img[0][30])"
   ]
  },
  {
   "cell_type": "markdown",
   "metadata": {},
   "source": [
    "# Train"
   ]
  },
  {
   "cell_type": "code",
   "execution_count": 8,
   "metadata": {},
   "outputs": [],
   "source": [
    "def train_epoch(model, loader, optimizer, loss_fn, scheduler, device='cuda'):\n",
    "    running_loss = 0\n",
    "    number_of_samples = 0\n",
    "    \n",
    "    pbar = tqdm(total = len(loader), desc='Training')\n",
    "    for _, (images, targets) in enumerate(loader):\n",
    "        \n",
    "        images, targets = images.to(device), targets.to(device)\n",
    "        model.train()\n",
    "        optimizer.zero_grad()\n",
    "        predictions = model(images)\n",
    "        loss = loss_fn(predictions, targets)\n",
    "        loss.backward()\n",
    "        optimizer.step()\n",
    "        scheduler.step()\n",
    "        \n",
    "        running_loss += loss.item()*images.shape[0]\n",
    "        number_of_samples += images.shape[0]\n",
    "        pbar.update()\n",
    "        \n",
    "    pbar.close()\n",
    "    return running_loss/number_of_samples\n",
    "\n",
    "\n",
    "def test_model(model, test_dataset, batch_size=8, verbose=False, device='cuda'):\n",
    "    testloader = DataLoader(test_dataset, shuffle=False, batch_size = batch_size, num_workers=0)\n",
    "    \n",
    "    all_prediction = []\n",
    "    all_targets = []\n",
    "    pbar = tqdm(total = len(testloader), desc='Testing')\n",
    "    with torch.no_grad():\n",
    "        for _, (images, targets) in enumerate(testloader):\n",
    "            model.eval()\n",
    "            all_prediction += model(images.to(device)).cpu().numpy().tolist()\n",
    "            all_targets    += targets.cpu().numpy().tolist()\n",
    "            pbar.update()\n",
    "        \n",
    "    pbar.close()\n",
    "    return torch.nn.MSELoss()(torch.tensor(all_prediction), torch.tensor(all_targets))\n",
    "\n",
    "\n",
    "def train_test(\n",
    "    model,\n",
    "    train_dataset,\n",
    "    test_dataset,\n",
    "    num_epochs=30, \n",
    "    batch_size=8, \n",
    "    verbose=False, \n",
    "    device='cuda',\n",
    "    lr=0.001,\n",
    "):\n",
    "    trainloader = DataLoader(train_dataset, shuffle=True, batch_size=batch_size, num_workers=0)\n",
    "\n",
    "    optimizer = Adam(model.parameters(), lr = lr) #, weight_decay = 1e-3)\n",
    "    num_train_steps = int(len(train_dataset) / batch_size * num_epochs)\n",
    "    scheduler = get_cosine_schedule_with_warmup(optimizer, num_warmup_steps=len(train_dataset)/batch_size*5, num_training_steps=num_train_steps)\n",
    "    loss_fn = torch.nn.MSELoss()\n",
    "\n",
    "    train_losses = []\n",
    "    test_losses = []\n",
    "    for epoch in range(num_epochs):\n",
    "        train_loss = train_epoch(model, trainloader, optimizer, loss_fn, scheduler, device)\n",
    "        train_losses.append(train_loss)\n",
    "\n",
    "        test_loss = test_model(model, test_dataset, batch_size, verbose, device)\n",
    "        test_losses.append(test_loss)\n",
    "        \n",
    "        if verbose:\n",
    "            tqdm.write('Epoch: '+ str(epoch) + ', Train loss: ' + str(train_loss) + ', Test loss: ' + str(test_loss))\n",
    "    \n",
    "    return train_losses, test_losses"
   ]
  },
  {
   "cell_type": "code",
   "execution_count": 9,
   "metadata": {},
   "outputs": [],
   "source": [
    "train_test_delimeter = int(len(all_pairs)*0.7)\n",
    "random.shuffle(all_pairs)\n",
    "\n",
    "train_dataset = DICOMDataset(all_pairs[:train_test_delimeter], 112, 'train')\n",
    "test_dataset  = DICOMDataset(all_pairs[train_test_delimeter:], 112, 'test')"
   ]
  },
  {
   "cell_type": "code",
   "execution_count": 10,
   "metadata": {},
   "outputs": [
    {
     "name": "stdout",
     "output_type": "stream",
     "text": [
      "\n"
     ]
    }
   ],
   "source": [
    "device = torch.device(\"cuda:0\" if torch.cuda.is_available() else \"cpu\")\n",
    "model = r3d_18(1, device)\n",
    "\n",
    "# model = torch.load(\"V_model_no_norm.pth\")\n",
    "# model.to(device)\n",
    "print()"
   ]
  },
  {
   "cell_type": "code",
   "execution_count": 11,
   "metadata": {},
   "outputs": [
    {
     "name": "stderr",
     "output_type": "stream",
     "text": [
      "Training: 100%|██████████| 4/4 [00:38<00:00,  9.53s/it]\n",
      "Testing: 100%|██████████| 2/2 [00:14<00:00,  7.17s/it]"
     ]
    },
    {
     "name": "stdout",
     "output_type": "stream",
     "text": [
      "Epoch: 0, Train loss: 2476.342325846354, Test loss: tensor(2639.7722)\n"
     ]
    },
    {
     "name": "stderr",
     "output_type": "stream",
     "text": [
      "\n"
     ]
    }
   ],
   "source": [
    "train_loss, test_loss = train_test(\n",
    "    model, \n",
    "    train_dataset,\n",
    "    test_dataset,\n",
    "    batch_size=16,\n",
    "    verbose=True, \n",
    "    num_epochs=1, # 200 is ok\n",
    "    device=device,\n",
    "    lr=0.01,\n",
    ")\n",
    "\n",
    "torch.save(model, \"resnet_3d_V86_0.pth\")"
   ]
  },
  {
   "cell_type": "code",
   "execution_count": 12,
   "metadata": {},
   "outputs": [
    {
     "data": {
      "image/png": "[encoded data removed]",
      "text/plain": [
       "<Figure size 432x288 with 1 Axes>"
      ]
     },
     "metadata": {
      "needs_background": "light"
     },
     "output_type": "display_data"
    }
   ],
   "source": [
    "import matplotlib.pyplot as plt\n",
    "\n",
    "plt.plot(range(len(train_loss)), train_loss, label='train loss')\n",
    "plt.plot(range(len(test_loss)), test_loss, label='test loss')\n",
    "plt.legend()\n",
    "plt.grid()\n",
    "plt.show()\n",
    "plt.close()"
   ]
  },
  {
   "cell_type": "code",
   "execution_count": 13,
   "metadata": {},
   "outputs": [
    {
     "name": "stderr",
     "output_type": "stream",
     "text": [
      "100%|██████████| 60/60 [00:51<00:00,  1.17it/s]\n"
     ]
    }
   ],
   "source": [
    "train_pairs = []\n",
    "\n",
    "model.cpu()\n",
    "model.eval()\n",
    "with torch.no_grad():\n",
    "    for i in tqdm(range(len(train_dataset))):\n",
    "        img, tgt = train_dataset[i]        \n",
    "        pred = model(img.unsqueeze(0).cpu()).cpu()\n",
    "        train_pairs.append([tgt[0].item(), pred[0][0].item()])\n",
    "#         print(train_pairs[-1])"
   ]
  },
  {
   "cell_type": "code",
   "execution_count": 14,
   "metadata": {},
   "outputs": [
    {
     "name": "stderr",
     "output_type": "stream",
     "text": [
      "100%|██████████| 26/26 [00:21<00:00,  1.21it/s]\n"
     ]
    }
   ],
   "source": [
    "test_pairs = []\n",
    "\n",
    "model.cpu()\n",
    "model.eval()\n",
    "with torch.no_grad():\n",
    "    for i in tqdm(range(len(test_dataset))):\n",
    "        img, tgt = test_dataset[i]        \n",
    "        pred = model(img.unsqueeze(0).cpu()).cpu()\n",
    "        test_pairs.append([tgt[0].item(), pred[0][0].item()])\n",
    "#         print(test_pairs[-1])"
   ]
  },
  {
   "cell_type": "code",
   "execution_count": 15,
   "metadata": {},
   "outputs": [
    {
     "data": {
      "image/png": "[encoded data removed]",
      "text/plain": [
       "<Figure size 432x288 with 1 Axes>"
      ]
     },
     "metadata": {
      "needs_background": "light"
     },
     "output_type": "display_data"
    }
   ],
   "source": [
    "import matplotlib.pyplot as plt\n",
    "\n",
    "plt.scatter([p[0] for p in train_pairs], [p[1] for p in train_pairs], label='train')\n",
    "plt.scatter([p[0] for p in test_pairs], [p[1] for p in test_pairs], label='test')\n",
    "plt.plot([20, 80], [20, 80], color='r', label='If accurate')\n",
    "plt.xlabel('True')\n",
    "plt.ylabel('Predicted')\n",
    "\n",
    "plt.legend()\n",
    "plt.grid()\n",
    "plt.show()\n",
    "plt.close()"
   ]
  },
  {
   "cell_type": "code",
   "execution_count": 16,
   "metadata": {},
   "outputs": [
    {
     "data": {
      "text/plain": [
       "16.825821091605565"
      ]
     },
     "execution_count": 16,
     "metadata": {},
     "output_type": "execute_result"
    }
   ],
   "source": [
    "tru = [p[0] for p in train_pairs]\n",
    "pre = [p[1] for p in train_pairs]\n",
    "(np.array(tru)-np.array(pre)).std()"
   ]
  },
  {
   "cell_type": "code",
   "execution_count": 17,
   "metadata": {},
   "outputs": [
    {
     "data": {
      "text/plain": [
       "15.816232740894812"
      ]
     },
     "execution_count": 17,
     "metadata": {},
     "output_type": "execute_result"
    }
   ],
   "source": [
    "tru = [p[0] for p in test_pairs]\n",
    "pre = [p[1] for p in test_pairs]\n",
    "(np.array(tru)-np.array(pre)).std()"
   ]
  },
  {
   "cell_type": "code",
   "execution_count": 18,
   "metadata": {},
   "outputs": [],
   "source": [
    "data = {}\n",
    "data['train_samples'] = [{'true': p[0], 'predicted': p[1]} for p in train_pairs]\n",
    "data['test_samples'] = [{'true': p[0], 'predicted': p[1]} for p in test_pairs]\n",
    "\n",
    "import json\n",
    "with open(file=\"predicted.json\", mode='w') as f:\n",
    "    json.dump(data, f, indent=2)"
   ]
  }
 ],
 "metadata": {
  "kernelspec": {
   "display_name": "Python 3",
   "language": "python",
   "name": "python3"
  },
  "language_info": {
   "codemirror_mode": {
    "name": "ipython",
    "version": 3
   },
   "file_extension": ".py",
   "mimetype": "text/x-python",
   "name": "python",
   "nbconvert_exporter": "python",
   "pygments_lexer": "ipython3",
   "version": "3.8.5"
  }
 },
 "nbformat": 4,
 "nbformat_minor": 4
}
