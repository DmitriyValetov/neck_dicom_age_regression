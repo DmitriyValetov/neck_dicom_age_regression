{
 "cells": [
  {
   "cell_type": "code",
   "execution_count": 1,
   "metadata": {},
   "outputs": [
    {
     "data": {
      "text/plain": [
       "<torch._C.Generator at 0x7fe1873a8450>"
      ]
     },
     "execution_count": 1,
     "metadata": {},
     "output_type": "execute_result"
    }
   ],
   "source": [
    "import os\n",
    "import cv2\n",
    "import json\n",
    "import random\n",
    "import numpy as np\n",
    "import pandas as pd\n",
    "from tqdm import tqdm\n",
    "from pathlib import Path\n",
    "import SimpleITK as sitk\n",
    "from pathlib import Path\n",
    "from pprint import pprint\n",
    "\n",
    "import torch\n",
    "import torch.nn.functional as F\n",
    "import torchvision.transforms.functional as TF\n",
    "from torchvision.transforms import ToTensor\n",
    "from torch.utils.data import Dataset, DataLoader\n",
    "\n",
    "from torch.optim import Adam\n",
    "from transformers import get_cosine_schedule_with_warmup\n",
    "\n",
    "import matplotlib.pyplot as plt\n",
    "import seaborn as sns\n",
    "from pycm import ConfusionMatrix\n",
    "\n",
    "\n",
    "from sklearn.metrics import classification_report\n",
    "\n",
    "\n",
    "\n",
    "random.seed(42)\n",
    "np.random.seed(42)\n",
    "torch.manual_seed(42)"
   ]
  },
  {
   "cell_type": "code",
   "execution_count": 2,
   "metadata": {},
   "outputs": [],
   "source": [
    "from models.cls_models import make_efficientnet\n",
    "from losses import FocalLoss\n",
    "from train_pipelines import train_test\n",
    "from datasets import BeginDetectorDataset, BeginDetectorDataset_for_infer"
   ]
  },
  {
   "cell_type": "markdown",
   "metadata": {},
   "source": [
    "# Data"
   ]
  },
  {
   "cell_type": "code",
   "execution_count": 3,
   "metadata": {},
   "outputs": [
    {
     "data": {
      "text/html": [
       "<div>\n",
       "<style scoped>\n",
       "    .dataframe tbody tr th:only-of-type {\n",
       "        vertical-align: middle;\n",
       "    }\n",
       "\n",
       "    .dataframe tbody tr th {\n",
       "        vertical-align: top;\n",
       "    }\n",
       "\n",
       "    .dataframe thead th {\n",
       "        text-align: right;\n",
       "    }\n",
       "</style>\n",
       "<table border=\"1\" class=\"dataframe\">\n",
       "  <thead>\n",
       "    <tr style=\"text-align: right;\">\n",
       "      <th></th>\n",
       "      <th>Name</th>\n",
       "      <th>Begin</th>\n",
       "      <th>End1vertebra</th>\n",
       "      <th>End2vertebra</th>\n",
       "      <th>Sex</th>\n",
       "      <th>Age</th>\n",
       "      <th>x_center</th>\n",
       "      <th>y_center</th>\n",
       "      <th>Strange Scale Data</th>\n",
       "    </tr>\n",
       "  </thead>\n",
       "  <tbody>\n",
       "    <tr>\n",
       "      <th>0</th>\n",
       "      <td>/media/dmitriy/main/data/DICOM_Sechenov/DICOM_...</td>\n",
       "      <td>56</td>\n",
       "      <td>4</td>\n",
       "      <td>NONE</td>\n",
       "      <td>m</td>\n",
       "      <td>26</td>\n",
       "      <td>273</td>\n",
       "      <td>293</td>\n",
       "      <td>0</td>\n",
       "    </tr>\n",
       "    <tr>\n",
       "      <th>1</th>\n",
       "      <td>/media/dmitriy/main/data/DICOM_Sechenov/DICOM_...</td>\n",
       "      <td>94</td>\n",
       "      <td>54</td>\n",
       "      <td>14</td>\n",
       "      <td>f</td>\n",
       "      <td>18</td>\n",
       "      <td>261</td>\n",
       "      <td>313</td>\n",
       "      <td>0</td>\n",
       "    </tr>\n",
       "    <tr>\n",
       "      <th>2</th>\n",
       "      <td>/media/dmitriy/main/data/DICOM_Sechenov/DICOM_...</td>\n",
       "      <td>157</td>\n",
       "      <td>116</td>\n",
       "      <td>75</td>\n",
       "      <td>f</td>\n",
       "      <td>25</td>\n",
       "      <td>259</td>\n",
       "      <td>346</td>\n",
       "      <td>0</td>\n",
       "    </tr>\n",
       "    <tr>\n",
       "      <th>3</th>\n",
       "      <td>/media/dmitriy/main/data/DICOM_Sechenov/DICOM_...</td>\n",
       "      <td>328</td>\n",
       "      <td>284</td>\n",
       "      <td>240</td>\n",
       "      <td>m</td>\n",
       "      <td>30</td>\n",
       "      <td>250</td>\n",
       "      <td>285</td>\n",
       "      <td>0</td>\n",
       "    </tr>\n",
       "    <tr>\n",
       "      <th>4</th>\n",
       "      <td>/media/dmitriy/main/data/DICOM_Sechenov/DICOM_...</td>\n",
       "      <td>291</td>\n",
       "      <td>248</td>\n",
       "      <td>209</td>\n",
       "      <td>m</td>\n",
       "      <td>35</td>\n",
       "      <td>231</td>\n",
       "      <td>327</td>\n",
       "      <td>0</td>\n",
       "    </tr>\n",
       "    <tr>\n",
       "      <th>...</th>\n",
       "      <td>...</td>\n",
       "      <td>...</td>\n",
       "      <td>...</td>\n",
       "      <td>...</td>\n",
       "      <td>...</td>\n",
       "      <td>...</td>\n",
       "      <td>...</td>\n",
       "      <td>...</td>\n",
       "      <td>...</td>\n",
       "    </tr>\n",
       "    <tr>\n",
       "      <th>219</th>\n",
       "      <td>/media/dmitriy/main/data/DICOM_Sechenov/DICOM_...</td>\n",
       "      <td>71</td>\n",
       "      <td>29</td>\n",
       "      <td>NONE</td>\n",
       "      <td>f</td>\n",
       "      <td>37</td>\n",
       "      <td>260</td>\n",
       "      <td>310</td>\n",
       "      <td>0</td>\n",
       "    </tr>\n",
       "    <tr>\n",
       "      <th>220</th>\n",
       "      <td>/media/dmitriy/main/data/DICOM_Sechenov/DICOM_...</td>\n",
       "      <td>90</td>\n",
       "      <td>44</td>\n",
       "      <td>NONE</td>\n",
       "      <td>NONE</td>\n",
       "      <td>45</td>\n",
       "      <td>261</td>\n",
       "      <td>332</td>\n",
       "      <td>0</td>\n",
       "    </tr>\n",
       "    <tr>\n",
       "      <th>221</th>\n",
       "      <td>/media/dmitriy/main/data/DICOM_Sechenov/DICOM_...</td>\n",
       "      <td>91</td>\n",
       "      <td>49</td>\n",
       "      <td>6</td>\n",
       "      <td>NONE</td>\n",
       "      <td>39</td>\n",
       "      <td>259</td>\n",
       "      <td>263</td>\n",
       "      <td>0</td>\n",
       "    </tr>\n",
       "    <tr>\n",
       "      <th>222</th>\n",
       "      <td>/media/dmitriy/main/data/DICOM_Sechenov/DICOM_...</td>\n",
       "      <td>85</td>\n",
       "      <td>41</td>\n",
       "      <td>6</td>\n",
       "      <td>f</td>\n",
       "      <td>42</td>\n",
       "      <td>260</td>\n",
       "      <td>278</td>\n",
       "      <td>0</td>\n",
       "    </tr>\n",
       "    <tr>\n",
       "      <th>223</th>\n",
       "      <td>/media/dmitriy/main/data/DICOM_Sechenov/DICOM_...</td>\n",
       "      <td>60</td>\n",
       "      <td>16</td>\n",
       "      <td>NONE</td>\n",
       "      <td>NONE</td>\n",
       "      <td>25</td>\n",
       "      <td>249</td>\n",
       "      <td>277</td>\n",
       "      <td>0</td>\n",
       "    </tr>\n",
       "  </tbody>\n",
       "</table>\n",
       "<p>223 rows × 9 columns</p>\n",
       "</div>"
      ],
      "text/plain": [
       "                                                  Name  Begin End1vertebra   \\\n",
       "0    /media/dmitriy/main/data/DICOM_Sechenov/DICOM_...     56             4   \n",
       "1    /media/dmitriy/main/data/DICOM_Sechenov/DICOM_...     94            54   \n",
       "2    /media/dmitriy/main/data/DICOM_Sechenov/DICOM_...    157           116   \n",
       "3    /media/dmitriy/main/data/DICOM_Sechenov/DICOM_...    328           284   \n",
       "4    /media/dmitriy/main/data/DICOM_Sechenov/DICOM_...    291           248   \n",
       "..                                                 ...    ...           ...   \n",
       "219  /media/dmitriy/main/data/DICOM_Sechenov/DICOM_...     71            29   \n",
       "220  /media/dmitriy/main/data/DICOM_Sechenov/DICOM_...     90            44   \n",
       "221  /media/dmitriy/main/data/DICOM_Sechenov/DICOM_...     91            49   \n",
       "222  /media/dmitriy/main/data/DICOM_Sechenov/DICOM_...     85            41   \n",
       "223  /media/dmitriy/main/data/DICOM_Sechenov/DICOM_...     60            16   \n",
       "\n",
       "    End2vertebra    Sex  Age  x_center  y_center  Strange Scale Data  \n",
       "0            NONE     m   26       273       293                   0  \n",
       "1              14     f   18       261       313                   0  \n",
       "2              75     f   25       259       346                   0  \n",
       "3             240     m   30       250       285                   0  \n",
       "4             209     m   35       231       327                   0  \n",
       "..            ...   ...  ...       ...       ...                 ...  \n",
       "219          NONE     f   37       260       310                   0  \n",
       "220          NONE  NONE   45       261       332                   0  \n",
       "221             6  NONE   39       259       263                   0  \n",
       "222             6     f   42       260       278                   0  \n",
       "223          NONE  NONE   25       249       277                   0  \n",
       "\n",
       "[223 rows x 9 columns]"
      ]
     },
     "execution_count": 3,
     "metadata": {},
     "output_type": "execute_result"
    }
   ],
   "source": [
    "base_data_path = os.path.join(Path(os.getcwd()).parent, 'DICOM_xy_position', 'Nii_files')\n",
    "df_path = os.path.join(base_data_path, 'slices.xlsx')\n",
    "df = pd.read_excel(df_path)\n",
    "df = df[df.Name != \"KURDUMOV.nii\"] # broken file\n",
    "df['Name'] = df.Name.apply(lambda x: os.path.join(base_data_path, x))\n",
    "df"
   ]
  },
  {
   "cell_type": "code",
   "execution_count": 4,
   "metadata": {},
   "outputs": [
    {
     "name": "stdout",
     "output_type": "stream",
     "text": [
      "torch.Size([30, 1, 128, 128])\n"
     ]
    }
   ],
   "source": [
    "ds = BeginDetectorDataset(df, 10, 2, 'train')\n",
    "batch, targets = next(iter(ds))\n",
    "print(batch.shape)\n",
    "\n",
    "# for i in range(batch.shape[0]):\n",
    "#     plt.imshow(batch[i, 0])\n",
    "#     plt.title(targets[i])\n",
    "#     plt.show()\n",
    "\n",
    "def collate_fn(batch):\n",
    "    images = torch.cat([tpl[0] for tpl in batch], axis=0)\n",
    "    target = torch.cat([tpl[1] for tpl in batch], axis=0)\n",
    "    return images, target\n",
    "\n",
    "# dl = DataLoader(ds, shuffle=False, batch_size=2, num_workers=0, collate_fn=collate_fn)\n",
    "# out = next(iter(dl))\n",
    "# out[0].shape, out[1].shape\n",
    "\n",
    "\n",
    "# infer_ds = BeginDetectorDataset_for_infer(df.loc[0, 'Name'])\n",
    "# img, i = infer_ds[0]"
   ]
  },
  {
   "cell_type": "markdown",
   "metadata": {},
   "source": [
    "# Train"
   ]
  },
  {
   "cell_type": "code",
   "execution_count": 5,
   "metadata": {},
   "outputs": [
    {
     "name": "stdout",
     "output_type": "stream",
     "text": [
      "Loaded pretrained weights for efficientnet-b1\n",
      "cuda:0\n"
     ]
    }
   ],
   "source": [
    "device = torch.device(\"cuda:0\" if torch.cuda.is_available() else \"cpu\")\n",
    "model = make_efficientnet(2, device, i=1)\n",
    "\n",
    "model_file = 'effnet_0.pth'\n",
    "# model = torch.load(model_file)\n",
    "\n",
    "model.to(device)\n",
    "print(device)"
   ]
  },
  {
   "cell_type": "code",
   "execution_count": 6,
   "metadata": {},
   "outputs": [],
   "source": [
    "from sklearn.model_selection import train_test_split\n",
    "train_df, test_df = train_test_split(df, test_size=0.2, random_state=42)\n",
    "train_df = train_df.reset_index()\n",
    "test_df = test_df.reset_index()\n",
    "\n",
    "train_dataset = BeginDetectorDataset(train_df, 20, 0.6, 'train', 100, resize_shape)\n",
    "test_dataset = BeginDetectorDataset(test_df, 20, 0.6, 'test', 100, resize_shape)\n",
    "\n",
    "trainloader = DataLoader(train_dataset, shuffle=True, batch_size=batch_size, num_workers=0, collate_fn=collate_fn, pin_memory=False)\n",
    "testloader = DataLoader(test_dataset, shuffle=False, batch_size = batch_size, num_workers=0, collate_fn=collate_fn, pin_memory=False)"
   ]
  },
  {
   "cell_type": "code",
   "execution_count": 11,
   "metadata": {},
   "outputs": [
    {
     "name": "stderr",
     "output_type": "stream",
     "text": [
      "Training: 100%|██████████| 100/100 [03:12<00:00,  1.92s/it]\n",
      "Testing: 100%|██████████| 100/100 [01:24<00:00,  1.18it/s]\n",
      "Training:   0%|          | 0/100 [00:00<?, ?it/s]"
     ]
    },
    {
     "name": "stdout",
     "output_type": "stream",
     "text": [
      "Epoch: 0, Train loss: 0.005691761611960828, Test loss: tensor(5.8658e-05)\n"
     ]
    },
    {
     "name": "stderr",
     "output_type": "stream",
     "text": [
      "Training: 100%|██████████| 100/100 [02:10<00:00,  1.30s/it]\n",
      "Testing: 100%|██████████| 100/100 [00:33<00:00,  2.94it/s]\n",
      "Training:   0%|          | 0/100 [00:00<?, ?it/s]"
     ]
    },
    {
     "name": "stdout",
     "output_type": "stream",
     "text": [
      "Epoch: 1, Train loss: 0.005565188229084015, Test loss: tensor(5.7771e-05)\n"
     ]
    },
    {
     "name": "stderr",
     "output_type": "stream",
     "text": [
      "Training: 100%|██████████| 100/100 [01:54<00:00,  1.14s/it]\n",
      "Testing: 100%|██████████| 100/100 [00:29<00:00,  3.41it/s]\n",
      "Training:   0%|          | 0/100 [00:00<?, ?it/s]"
     ]
    },
    {
     "name": "stdout",
     "output_type": "stream",
     "text": [
      "Epoch: 2, Train loss: 0.005317238150164485, Test loss: tensor(5.5776e-05)\n"
     ]
    },
    {
     "name": "stderr",
     "output_type": "stream",
     "text": [
      "Training: 100%|██████████| 100/100 [01:49<00:00,  1.09s/it]\n",
      "Testing: 100%|██████████| 100/100 [00:27<00:00,  3.59it/s]\n",
      "Training:   0%|          | 0/100 [00:00<?, ?it/s]"
     ]
    },
    {
     "name": "stdout",
     "output_type": "stream",
     "text": [
      "Epoch: 3, Train loss: 0.004979186388663947, Test loss: tensor(5.1765e-05)\n"
     ]
    },
    {
     "name": "stderr",
     "output_type": "stream",
     "text": [
      "Training: 100%|██████████| 100/100 [01:23<00:00,  1.20it/s]\n",
      "Testing: 100%|██████████| 100/100 [00:27<00:00,  3.61it/s]\n",
      "Training:   0%|          | 0/100 [00:00<?, ?it/s]"
     ]
    },
    {
     "name": "stdout",
     "output_type": "stream",
     "text": [
      "Epoch: 4, Train loss: 0.004577168240211904, Test loss: tensor(4.7990e-05)\n"
     ]
    },
    {
     "name": "stderr",
     "output_type": "stream",
     "text": [
      "Training: 100%|██████████| 100/100 [01:31<00:00,  1.10it/s]\n",
      "Testing: 100%|██████████| 100/100 [00:27<00:00,  3.60it/s]\n",
      "Training:   0%|          | 0/100 [00:00<?, ?it/s]"
     ]
    },
    {
     "name": "stdout",
     "output_type": "stream",
     "text": [
      "Epoch: 5, Train loss: 0.004100114572793245, Test loss: tensor(4.3652e-05)\n"
     ]
    },
    {
     "name": "stderr",
     "output_type": "stream",
     "text": [
      "Training: 100%|██████████| 100/100 [01:20<00:00,  1.25it/s]\n",
      "Testing: 100%|██████████| 100/100 [00:26<00:00,  3.71it/s]\n",
      "Training:   0%|          | 0/100 [00:00<?, ?it/s]"
     ]
    },
    {
     "name": "stdout",
     "output_type": "stream",
     "text": [
      "Epoch: 6, Train loss: 0.003644719528965652, Test loss: tensor(4.0393e-05)\n"
     ]
    },
    {
     "name": "stderr",
     "output_type": "stream",
     "text": [
      "Training: 100%|██████████| 100/100 [01:20<00:00,  1.24it/s]\n",
      "Testing: 100%|██████████| 100/100 [00:27<00:00,  3.67it/s]\n",
      "Training:   0%|          | 0/100 [00:00<?, ?it/s]"
     ]
    },
    {
     "name": "stdout",
     "output_type": "stream",
     "text": [
      "Epoch: 7, Train loss: 0.003258502602111548, Test loss: tensor(3.8473e-05)\n"
     ]
    },
    {
     "name": "stderr",
     "output_type": "stream",
     "text": [
      "Training: 100%|██████████| 100/100 [01:14<00:00,  1.33it/s]\n",
      "Testing: 100%|██████████| 100/100 [00:27<00:00,  3.69it/s]\n",
      "Training:   0%|          | 0/100 [00:00<?, ?it/s]"
     ]
    },
    {
     "name": "stdout",
     "output_type": "stream",
     "text": [
      "Epoch: 8, Train loss: 0.0030798304290510716, Test loss: tensor(3.7190e-05)\n"
     ]
    },
    {
     "name": "stderr",
     "output_type": "stream",
     "text": [
      "Training: 100%|██████████| 100/100 [01:16<00:00,  1.31it/s]\n",
      "Testing: 100%|██████████| 100/100 [00:28<00:00,  3.52it/s]\n"
     ]
    },
    {
     "name": "stdout",
     "output_type": "stream",
     "text": [
      "Epoch: 9, Train loss: 0.0029972581448964777, Test loss: tensor(3.7404e-05)\n"
     ]
    }
   ],
   "source": [
    "resize_shape = (512, 512)\n",
    "\n",
    "batch_size = 1\n",
    "num_epochs = 10\n",
    "optimizer = Adam(model.parameters(), lr = 0.000001) #, weight_decay = 1e-3)\n",
    "num_train_steps = int(len(train_dataset) / batch_size * num_epochs)\n",
    "scheduler = get_cosine_schedule_with_warmup(optimizer, num_warmup_steps=len(train_dataset)/batch_size*5, num_training_steps=num_train_steps)\n",
    "\n",
    "    \n",
    "\n",
    "loss_fn = FocalLoss()\n",
    "# loss_fn = torch.nn.CrossEntropyLoss()\n",
    "\n",
    "train_loss, test_loss = train_test(\n",
    "    model, \n",
    "    optimizer,\n",
    "    scheduler,\n",
    "    trainloader,\n",
    "    testloader,\n",
    "    loss_fn,\n",
    "    num_epochs=num_epochs,\n",
    "    verbose=True, \n",
    "    device=device,\n",
    ")\n",
    "\n",
    "torch.save(model, model_file)"
   ]
  },
  {
   "cell_type": "code",
   "execution_count": 11,
   "metadata": {},
   "outputs": [],
   "source": [
    "torch.save(model, model_file)"
   ]
  },
  {
   "cell_type": "code",
   "execution_count": 12,
   "metadata": {},
   "outputs": [
    {
     "name": "stderr",
     "output_type": "stream",
     "text": [
      "100%|██████████| 240/240 [00:02<00:00, 80.90it/s]"
     ]
    },
    {
     "name": "stdout",
     "output_type": "stream",
     "text": [
      "('              precision    recall  f1-score   support\\n'\n",
      " '\\n'\n",
      " '           0       0.99      0.94      0.96       199\\n'\n",
      " '           1       0.76      0.95      0.85        41\\n'\n",
      " '\\n'\n",
      " '    accuracy                           0.94       240\\n'\n",
      " '   macro avg       0.88      0.95      0.91       240\\n'\n",
      " 'weighted avg       0.95      0.94      0.94       240\\n')\n"
     ]
    },
    {
     "name": "stderr",
     "output_type": "stream",
     "text": [
      "\n"
     ]
    },
    {
     "data": {
      "text/plain": [
       "<AxesSubplot:title={'center':'Confusion Matrix'}, xlabel='Predicted Classes', ylabel='Actual Classes'>"
      ]
     },
     "execution_count": 12,
     "metadata": {},
     "output_type": "execute_result"
    },
    {
     "data": {
      "image/png": "[encoded data removed]",
      "text/plain": [
       "<Figure size 432x288 with 2 Axes>"
      ]
     },
     "metadata": {
      "needs_background": "light"
     },
     "output_type": "display_data"
    }
   ],
   "source": [
    "# row = df.loc[6]\n",
    "row = train_df.loc[6]\n",
    "# row = test_df.loc[1]\n",
    "\n",
    "model.eval()\n",
    "infer_ds = BeginDetectorDataset_for_infer(row.Name, shape=resize_shape)\n",
    "\n",
    "\n",
    "preds = []\n",
    "for img, i in tqdm(infer_ds, position=0, leave=True):\n",
    "    with torch.no_grad():\n",
    "        resp = model(img.to(device))\n",
    "        preds.append(resp.cpu().argmax(axis=1).item())\n",
    "        \n",
    "preds = np.array(preds)\n",
    "down_line = -1 if isinstance(row['End1vertebra '], str) else row['End1vertebra ']\n",
    "tr = [(1 if down_line<i and i<row['Begin'] else 0) for i in range(infer_ds.image.shape[0])]\n",
    "tr = np.array(tr)\n",
    "\n",
    "from sklearn.metrics import classification_report\n",
    "pprint(classification_report(tr, preds))\n",
    "\n",
    "cm = ConfusionMatrix(tr,preds)\n",
    "cm.plot(cmap=plt.cm.Greens,number_label=True,plot_lib=\"matplotlib\")"
   ]
  },
  {
   "cell_type": "code",
   "execution_count": 19,
   "metadata": {},
   "outputs": [
    {
     "name": "stderr",
     "output_type": "stream",
     "text": [
      "100%|██████████| 178/178 [09:56<00:00,  3.35s/it]"
     ]
    },
    {
     "name": "stdout",
     "output_type": "stream",
     "text": [
      "('              precision    recall  f1-score   support\\n'\n",
      " '\\n'\n",
      " '           0       0.99      0.77      0.87     40393\\n'\n",
      " '           1       0.45      0.95      0.61      7892\\n'\n",
      " '\\n'\n",
      " '    accuracy                           0.80     48285\\n'\n",
      " '   macro avg       0.72      0.86      0.74     48285\\n'\n",
      " 'weighted avg       0.90      0.80      0.82     48285\\n')\n"
     ]
    },
    {
     "name": "stderr",
     "output_type": "stream",
     "text": [
      "\n"
     ]
    },
    {
     "data": {
      "text/plain": [
       "<AxesSubplot:title={'center':'Confusion Matrix'}, xlabel='Predicted Classes', ylabel='Actual Classes'>"
      ]
     },
     "execution_count": 19,
     "metadata": {},
     "output_type": "execute_result"
    },
    {
     "data": {
      "image/png": "[encoded data removed]",
      "text/plain": [
       "<Figure size 432x288 with 2 Axes>"
      ]
     },
     "metadata": {
      "needs_background": "light"
     },
     "output_type": "display_data"
    }
   ],
   "source": [
    "model.eval()\n",
    "\n",
    "preds = []\n",
    "truth = []\n",
    "packs = []\n",
    "\n",
    "for i in tqdm(range(train_df.shape[0]), position=0, leave=True):\n",
    "    row = train_df.loc[i]\n",
    "\n",
    "    infer_ds = BeginDetectorDataset_for_infer(row.Name, shape=resize_shape)\n",
    "\n",
    "    pred_p = []\n",
    "    for img, i in infer_ds:\n",
    "        with torch.no_grad():\n",
    "            resp = model(img.to(device))\n",
    "            resp = resp.cpu().argmax(axis=1).item()\n",
    "            preds.append(resp)\n",
    "            pred_p.append(resp)\n",
    "\n",
    "    down_line = -1 if isinstance(row['End1vertebra '], str) else row['End1vertebra ']\n",
    "    tr = [(1 if down_line<i and i<row['Begin'] else 0) for i in range(infer_ds.image.shape[0])]\n",
    "    packs.append([tr, pred_p])\n",
    "    truth += tr\n",
    "\n",
    "\n",
    "preds = np.array(preds)\n",
    "truth = np.array(truth)\n",
    "\n",
    "from sklearn.metrics import classification_report\n",
    "pprint(classification_report(truth, preds))\n",
    "\n",
    "cm = ConfusionMatrix(truth, preds)\n",
    "cm.plot(cmap=plt.cm.Greens,number_label=True,plot_lib=\"matplotlib\")"
   ]
  },
  {
   "cell_type": "code",
   "execution_count": 33,
   "metadata": {},
   "outputs": [
    {
     "name": "stderr",
     "output_type": "stream",
     "text": [
      "/home/dmitriy/.local/lib/python3.8/site-packages/seaborn/distributions.py:2557: FutureWarning:\n",
      "\n",
      "`distplot` is a deprecated function and will be removed in a future version. Please adapt your code to use either `displot` (a figure-level function with similar flexibility) or `histplot` (an axes-level function for histograms).\n",
      "\n"
     ]
    },
    {
     "data": {
      "text/plain": [
       "<AxesSubplot:ylabel='Density'>"
      ]
     },
     "execution_count": 33,
     "metadata": {},
     "output_type": "execute_result"
    },
    {
     "data": {
      "image/png": "[encoded data removed]",
      "text/plain": [
       "<Figure size 432x288 with 1 Axes>"
      ]
     },
     "metadata": {
      "needs_background": "light"
     },
     "output_type": "display_data"
    }
   ],
   "source": [
    "errors_ids = []\n",
    "for tr, pred in packs:\n",
    "    flags = (np.array(tr) != np.array(pred))\n",
    "    errors_ids += np.where(flags)[0].tolist()\n",
    "    \n",
    "sns.distplot(errors_ids)"
   ]
  },
  {
   "cell_type": "code",
   "execution_count": 41,
   "metadata": {},
   "outputs": [
    {
     "data": {
      "text/plain": [
       "Counter({0: 5296, 2: 4078, 1: 316})"
      ]
     },
     "execution_count": 41,
     "metadata": {},
     "output_type": "execute_result"
    }
   ],
   "source": [
    "from collections import Counter\n",
    "\n",
    "errors_ids = []\n",
    "for tr, pred in packs:\n",
    "    first_tr = np.where(tr)[0][0]\n",
    "    last_tr = np.where(tr)[0][-1]\n",
    "    flags = np.where((np.array(tr) != np.array(pred)))[0]\n",
    "    errors_ids += [ 0 if f<=first_tr else (2 if f >= last_tr else 1) for f in flags]\n",
    "    \n",
    "\n",
    "Counter(errors_ids)"
   ]
  },
  {
   "cell_type": "code",
   "execution_count": 14,
   "metadata": {},
   "outputs": [
    {
     "name": "stderr",
     "output_type": "stream",
     "text": [
      "100%|██████████| 45/45 [02:24<00:00,  3.20s/it]"
     ]
    },
    {
     "name": "stdout",
     "output_type": "stream",
     "text": [
      "('              precision    recall  f1-score   support\\n'\n",
      " '\\n'\n",
      " '           0       0.99      0.83      0.90      9916\\n'\n",
      " '           1       0.53      0.95      0.68      1980\\n'\n",
      " '\\n'\n",
      " '    accuracy                           0.85     11896\\n'\n",
      " '   macro avg       0.76      0.89      0.79     11896\\n'\n",
      " 'weighted avg       0.91      0.85      0.87     11896\\n')\n"
     ]
    },
    {
     "name": "stderr",
     "output_type": "stream",
     "text": [
      "\n"
     ]
    },
    {
     "data": {
      "text/plain": [
       "<AxesSubplot:title={'center':'Confusion Matrix'}, xlabel='Predicted Classes', ylabel='Actual Classes'>"
      ]
     },
     "execution_count": 14,
     "metadata": {},
     "output_type": "execute_result"
    },
    {
     "data": {
      "image/png": "[encoded data removed]",
      "text/plain": [
       "<Figure size 432x288 with 2 Axes>"
      ]
     },
     "metadata": {
      "needs_background": "light"
     },
     "output_type": "display_data"
    }
   ],
   "source": [
    "model.eval()\n",
    "\n",
    "preds = []\n",
    "truth = []\n",
    "packs = []\n",
    "\n",
    "for i in tqdm(range(test_df.shape[0]), position=0, leave=True):\n",
    "    row = train_df.loc[i]\n",
    "\n",
    "    infer_ds = BeginDetectorDataset_for_infer(row.Name, shape=resize_shape)\n",
    "\n",
    "    pred_p = []\n",
    "    for img, i in infer_ds:\n",
    "        with torch.no_grad():\n",
    "            resp = model(img.to(device))\n",
    "            resp = resp.cpu().argmax(axis=1).item()\n",
    "            preds.append(resp)\n",
    "            pred_p.append(resp)\n",
    "\n",
    "    down_line = -1 if isinstance(row['End1vertebra '], str) else row['End1vertebra ']\n",
    "    tr = [(1 if down_line<i and i<row['Begin'] else 0) for i in range(infer_ds.image.shape[0])]\n",
    "    packs.append([tr, pred_p])\n",
    "    truth += tr\n",
    "\n",
    "\n",
    "preds = np.array(preds)\n",
    "truth = np.array(truth)\n",
    "\n",
    "from sklearn.metrics import classification_report\n",
    "pprint(classification_report(truth, preds))\n",
    "\n",
    "cm = ConfusionMatrix(truth, preds)\n",
    "cm.plot(cmap=plt.cm.Greens,number_label=True,plot_lib=\"matplotlib\")"
   ]
  },
  {
   "cell_type": "code",
   "execution_count": null,
   "metadata": {},
   "outputs": [],
   "source": []
  },
  {
   "cell_type": "code",
   "execution_count": null,
   "metadata": {},
   "outputs": [],
   "source": []
  },
  {
   "cell_type": "code",
   "execution_count": null,
   "metadata": {},
   "outputs": [],
   "source": []
  },
  {
   "cell_type": "code",
   "execution_count": null,
   "metadata": {},
   "outputs": [],
   "source": []
  },
  {
   "cell_type": "code",
   "execution_count": null,
   "metadata": {},
   "outputs": [],
   "source": []
  }
 ],
 "metadata": {
  "kernelspec": {
   "display_name": "Python 3",
   "language": "python",
   "name": "python3"
  },
  "language_info": {
   "codemirror_mode": {
    "name": "ipython",
    "version": 3
   },
   "file_extension": ".py",
   "mimetype": "text/x-python",
   "name": "python",
   "nbconvert_exporter": "python",
   "pygments_lexer": "ipython3",
   "version": "3.8.10"
  }
 },
 "nbformat": 4,
 "nbformat_minor": 4
}
