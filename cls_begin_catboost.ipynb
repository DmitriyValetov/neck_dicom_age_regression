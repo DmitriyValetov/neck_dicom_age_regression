{
 "cells": [
  {
   "cell_type": "code",
   "execution_count": 8,
   "metadata": {},
   "outputs": [
    {
     "data": {
      "text/plain": [
       "<torch._C.Generator at 0x7f4a2309f450>"
      ]
     },
     "execution_count": 8,
     "metadata": {},
     "output_type": "execute_result"
    }
   ],
   "source": [
    "import os\n",
    "import cv2\n",
    "import json\n",
    "import random\n",
    "import numpy as np\n",
    "import pandas as pd\n",
    "from tqdm import tqdm\n",
    "from pathlib import Path\n",
    "import SimpleITK as sitk\n",
    "from pathlib import Path\n",
    "from pprint import pprint\n",
    "\n",
    "import torch\n",
    "import torch.nn.functional as F\n",
    "import torchvision.transforms.functional as TF\n",
    "from torchvision.transforms import ToTensor\n",
    "from torch.utils.data import Dataset, DataLoader\n",
    "\n",
    "from torch.optim import Adam\n",
    "from transformers import get_cosine_schedule_with_warmup\n",
    "\n",
    "import matplotlib.pyplot as plt\n",
    "import seaborn as sns\n",
    "from pycm import ConfusionMatrix\n",
    "\n",
    "\n",
    "from sklearn.metrics import classification_report\n",
    "\n",
    "\n",
    "\n",
    "random.seed(42)\n",
    "np.random.seed(42)\n",
    "torch.manual_seed(42)"
   ]
  },
  {
   "cell_type": "code",
   "execution_count": 18,
   "metadata": {},
   "outputs": [],
   "source": [
    "from models.cls_models import make_efficientnet_featurizer"
   ]
  },
  {
   "cell_type": "markdown",
   "metadata": {},
   "source": [
    "# Data"
   ]
  },
  {
   "cell_type": "code",
   "execution_count": 32,
   "metadata": {},
   "outputs": [
    {
     "data": {
      "text/html": [
       "<div>\n",
       "<style scoped>\n",
       "    .dataframe tbody tr th:only-of-type {\n",
       "        vertical-align: middle;\n",
       "    }\n",
       "\n",
       "    .dataframe tbody tr th {\n",
       "        vertical-align: top;\n",
       "    }\n",
       "\n",
       "    .dataframe thead th {\n",
       "        text-align: right;\n",
       "    }\n",
       "</style>\n",
       "<table border=\"1\" class=\"dataframe\">\n",
       "  <thead>\n",
       "    <tr style=\"text-align: right;\">\n",
       "      <th></th>\n",
       "      <th>index</th>\n",
       "      <th>Name</th>\n",
       "      <th>Begin</th>\n",
       "      <th>End1vertebra</th>\n",
       "      <th>End2vertebra</th>\n",
       "      <th>Sex</th>\n",
       "      <th>Age</th>\n",
       "      <th>x_center</th>\n",
       "      <th>y_center</th>\n",
       "      <th>Strange Scale Data</th>\n",
       "    </tr>\n",
       "  </thead>\n",
       "  <tbody>\n",
       "    <tr>\n",
       "      <th>0</th>\n",
       "      <td>0</td>\n",
       "      <td>/media/dmitriy/main/data/DICOM_Sechenov/DICOM_...</td>\n",
       "      <td>56</td>\n",
       "      <td>4</td>\n",
       "      <td>NONE</td>\n",
       "      <td>m</td>\n",
       "      <td>26</td>\n",
       "      <td>273</td>\n",
       "      <td>293</td>\n",
       "      <td>0</td>\n",
       "    </tr>\n",
       "    <tr>\n",
       "      <th>1</th>\n",
       "      <td>1</td>\n",
       "      <td>/media/dmitriy/main/data/DICOM_Sechenov/DICOM_...</td>\n",
       "      <td>94</td>\n",
       "      <td>54</td>\n",
       "      <td>14</td>\n",
       "      <td>f</td>\n",
       "      <td>18</td>\n",
       "      <td>261</td>\n",
       "      <td>313</td>\n",
       "      <td>0</td>\n",
       "    </tr>\n",
       "    <tr>\n",
       "      <th>2</th>\n",
       "      <td>2</td>\n",
       "      <td>/media/dmitriy/main/data/DICOM_Sechenov/DICOM_...</td>\n",
       "      <td>157</td>\n",
       "      <td>116</td>\n",
       "      <td>75</td>\n",
       "      <td>f</td>\n",
       "      <td>25</td>\n",
       "      <td>259</td>\n",
       "      <td>346</td>\n",
       "      <td>0</td>\n",
       "    </tr>\n",
       "    <tr>\n",
       "      <th>3</th>\n",
       "      <td>3</td>\n",
       "      <td>/media/dmitriy/main/data/DICOM_Sechenov/DICOM_...</td>\n",
       "      <td>328</td>\n",
       "      <td>284</td>\n",
       "      <td>240</td>\n",
       "      <td>m</td>\n",
       "      <td>30</td>\n",
       "      <td>250</td>\n",
       "      <td>285</td>\n",
       "      <td>0</td>\n",
       "    </tr>\n",
       "    <tr>\n",
       "      <th>4</th>\n",
       "      <td>4</td>\n",
       "      <td>/media/dmitriy/main/data/DICOM_Sechenov/DICOM_...</td>\n",
       "      <td>291</td>\n",
       "      <td>248</td>\n",
       "      <td>209</td>\n",
       "      <td>m</td>\n",
       "      <td>35</td>\n",
       "      <td>231</td>\n",
       "      <td>327</td>\n",
       "      <td>0</td>\n",
       "    </tr>\n",
       "    <tr>\n",
       "      <th>...</th>\n",
       "      <td>...</td>\n",
       "      <td>...</td>\n",
       "      <td>...</td>\n",
       "      <td>...</td>\n",
       "      <td>...</td>\n",
       "      <td>...</td>\n",
       "      <td>...</td>\n",
       "      <td>...</td>\n",
       "      <td>...</td>\n",
       "      <td>...</td>\n",
       "    </tr>\n",
       "    <tr>\n",
       "      <th>218</th>\n",
       "      <td>219</td>\n",
       "      <td>/media/dmitriy/main/data/DICOM_Sechenov/DICOM_...</td>\n",
       "      <td>71</td>\n",
       "      <td>29</td>\n",
       "      <td>NONE</td>\n",
       "      <td>f</td>\n",
       "      <td>37</td>\n",
       "      <td>260</td>\n",
       "      <td>310</td>\n",
       "      <td>0</td>\n",
       "    </tr>\n",
       "    <tr>\n",
       "      <th>219</th>\n",
       "      <td>220</td>\n",
       "      <td>/media/dmitriy/main/data/DICOM_Sechenov/DICOM_...</td>\n",
       "      <td>90</td>\n",
       "      <td>44</td>\n",
       "      <td>NONE</td>\n",
       "      <td>NONE</td>\n",
       "      <td>45</td>\n",
       "      <td>261</td>\n",
       "      <td>332</td>\n",
       "      <td>0</td>\n",
       "    </tr>\n",
       "    <tr>\n",
       "      <th>220</th>\n",
       "      <td>221</td>\n",
       "      <td>/media/dmitriy/main/data/DICOM_Sechenov/DICOM_...</td>\n",
       "      <td>91</td>\n",
       "      <td>49</td>\n",
       "      <td>6</td>\n",
       "      <td>NONE</td>\n",
       "      <td>39</td>\n",
       "      <td>259</td>\n",
       "      <td>263</td>\n",
       "      <td>0</td>\n",
       "    </tr>\n",
       "    <tr>\n",
       "      <th>221</th>\n",
       "      <td>222</td>\n",
       "      <td>/media/dmitriy/main/data/DICOM_Sechenov/DICOM_...</td>\n",
       "      <td>85</td>\n",
       "      <td>41</td>\n",
       "      <td>6</td>\n",
       "      <td>f</td>\n",
       "      <td>42</td>\n",
       "      <td>260</td>\n",
       "      <td>278</td>\n",
       "      <td>0</td>\n",
       "    </tr>\n",
       "    <tr>\n",
       "      <th>222</th>\n",
       "      <td>223</td>\n",
       "      <td>/media/dmitriy/main/data/DICOM_Sechenov/DICOM_...</td>\n",
       "      <td>60</td>\n",
       "      <td>16</td>\n",
       "      <td>NONE</td>\n",
       "      <td>NONE</td>\n",
       "      <td>25</td>\n",
       "      <td>249</td>\n",
       "      <td>277</td>\n",
       "      <td>0</td>\n",
       "    </tr>\n",
       "  </tbody>\n",
       "</table>\n",
       "<p>223 rows × 10 columns</p>\n",
       "</div>"
      ],
      "text/plain": [
       "     index                                               Name  Begin  \\\n",
       "0        0  /media/dmitriy/main/data/DICOM_Sechenov/DICOM_...     56   \n",
       "1        1  /media/dmitriy/main/data/DICOM_Sechenov/DICOM_...     94   \n",
       "2        2  /media/dmitriy/main/data/DICOM_Sechenov/DICOM_...    157   \n",
       "3        3  /media/dmitriy/main/data/DICOM_Sechenov/DICOM_...    328   \n",
       "4        4  /media/dmitriy/main/data/DICOM_Sechenov/DICOM_...    291   \n",
       "..     ...                                                ...    ...   \n",
       "218    219  /media/dmitriy/main/data/DICOM_Sechenov/DICOM_...     71   \n",
       "219    220  /media/dmitriy/main/data/DICOM_Sechenov/DICOM_...     90   \n",
       "220    221  /media/dmitriy/main/data/DICOM_Sechenov/DICOM_...     91   \n",
       "221    222  /media/dmitriy/main/data/DICOM_Sechenov/DICOM_...     85   \n",
       "222    223  /media/dmitriy/main/data/DICOM_Sechenov/DICOM_...     60   \n",
       "\n",
       "    End1vertebra  End2vertebra    Sex  Age  x_center  y_center  \\\n",
       "0               4          NONE     m   26       273       293   \n",
       "1              54            14     f   18       261       313   \n",
       "2             116            75     f   25       259       346   \n",
       "3             284           240     m   30       250       285   \n",
       "4             248           209     m   35       231       327   \n",
       "..            ...           ...   ...  ...       ...       ...   \n",
       "218            29          NONE     f   37       260       310   \n",
       "219            44          NONE  NONE   45       261       332   \n",
       "220            49             6  NONE   39       259       263   \n",
       "221            41             6     f   42       260       278   \n",
       "222            16          NONE  NONE   25       249       277   \n",
       "\n",
       "     Strange Scale Data  \n",
       "0                     0  \n",
       "1                     0  \n",
       "2                     0  \n",
       "3                     0  \n",
       "4                     0  \n",
       "..                  ...  \n",
       "218                   0  \n",
       "219                   0  \n",
       "220                   0  \n",
       "221                   0  \n",
       "222                   0  \n",
       "\n",
       "[223 rows x 10 columns]"
      ]
     },
     "execution_count": 32,
     "metadata": {},
     "output_type": "execute_result"
    }
   ],
   "source": [
    "base_data_path = os.path.join(Path(os.getcwd()).parent, 'DICOM_xy_position', 'Nii_files')\n",
    "df_path = os.path.join(base_data_path, 'slices.xlsx')\n",
    "df = pd.read_excel(df_path)\n",
    "df = df[df.Name != \"KURDUMOV.nii\"] # broken file\n",
    "df = df.reset_index()\n",
    "df['Name'] = df.Name.apply(lambda x: os.path.join(base_data_path, x))\n",
    "df"
   ]
  },
  {
   "cell_type": "code",
   "execution_count": 30,
   "metadata": {},
   "outputs": [
    {
     "name": "stdout",
     "output_type": "stream",
     "text": [
      "Loaded pretrained weights for efficientnet-b0\n"
     ]
    }
   ],
   "source": [
    "model = make_efficientnet_featurizer()\n",
    "norm = torch.nn.InstanceNorm2d(1)"
   ]
  },
  {
   "cell_type": "code",
   "execution_count": 33,
   "metadata": {},
   "outputs": [
    {
     "name": "stderr",
     "output_type": "stream",
     "text": [
      "100%|██████████| 223/223 [11:17<00:00,  3.04s/it]\n"
     ]
    }
   ],
   "source": [
    "dataset = []\n",
    "\n",
    "for i in tqdm(range(df.shape[0]), position=0, leave=True):\n",
    "    row = df.loc[i]\n",
    "    image = sitk.GetArrayFromImage(sitk.ReadImage(row.Name)).astype(np.float32)\n",
    "    down_line = -1 if isinstance(row['End1vertebra '], str) else row['End1vertebra ']\n",
    "    \n",
    "    for slide_i, slide in enumerate(image):\n",
    "        with torch.no_grad():\n",
    "            emb = model(norm(torch.tensor(slide).unsqueeze(0).unsqueeze(0)).cuda()).cpu()[0].numpy()\n",
    "            dataset.append([row.Name, slide_i, emb, (1 if down_line<i and i<row['Begin'] else 0) ])\n"
   ]
  },
  {
   "cell_type": "code",
   "execution_count": 34,
   "metadata": {},
   "outputs": [],
   "source": [
    "import pickle\n",
    "\n",
    "with open(file='catboost_dataset.pkl', mode='wb') as f:\n",
    "    pickle.dump(dataset, f)"
   ]
  },
  {
   "cell_type": "markdown",
   "metadata": {},
   "source": [
    "# Train"
   ]
  },
  {
   "cell_type": "code",
   "execution_count": 36,
   "metadata": {},
   "outputs": [],
   "source": [
    "from imblearn.over_sampling import RandomOverSampler\n",
    "from imblearn.under_sampling import RandomUnderSampler\n",
    "from catboost import CatBoostClassifier"
   ]
  },
  {
   "cell_type": "code",
   "execution_count": 37,
   "metadata": {},
   "outputs": [],
   "source": [
    "from sklearn.model_selection import train_test_split\n",
    "train_ds, test_ds = train_test_split(dataset, test_size=0.2, random_state=42)"
   ]
  },
  {
   "cell_type": "code",
   "execution_count": 62,
   "metadata": {},
   "outputs": [],
   "source": [
    "train_x = [b[2] for b in train_ds]\n",
    "train_y = np.array([b[3] for b in train_ds])\n",
    "train_df = pd.DataFrame(data=list(zip(train_x, train_y)), columns=['emb', 'target'])\n",
    "train_x = np.array([v for v in train_df['emb'].values])\n",
    "\n",
    "test_x = [b[2] for b in test_ds]\n",
    "test_y = np.array([b[3] for b in test_ds])\n",
    "test_df = pd.DataFrame(data=list(zip(test_x, test_y)), columns=['emb', 'target'])\n",
    "test_x = np.array([v for v in test_df['emb'].values])"
   ]
  },
  {
   "cell_type": "code",
   "execution_count": 63,
   "metadata": {},
   "outputs": [],
   "source": [
    "ros = RandomOverSampler()\n",
    "_, _ = ros.fit_resample(train_x, train_y)\n",
    "train_idx = ros.sample_indices_\n",
    "_, _ = ros.fit_resample(test_x, test_y)\n",
    "test_idx = ros.sample_indices_\n",
    "\n",
    "x_train, x_test = train_x[train_idx], test_x[test_idx]\n",
    "y_train, y_test = train_y[train_idx], test_y[test_idx]"
   ]
  },
  {
   "cell_type": "code",
   "execution_count": 80,
   "metadata": {},
   "outputs": [
    {
     "data": {
      "text/plain": [
       "<catboost.core.CatBoostClassifier at 0x7f496b152ca0>"
      ]
     },
     "execution_count": 80,
     "metadata": {},
     "output_type": "execute_result"
    }
   ],
   "source": [
    "clsf = CatBoostClassifier(iterations=100, verbose=False)\n",
    "clsf.fit(x_train, y_train)"
   ]
  },
  {
   "cell_type": "code",
   "execution_count": 81,
   "metadata": {},
   "outputs": [
    {
     "name": "stdout",
     "output_type": "stream",
     "text": [
      "('              precision    recall  f1-score   support\\n'\n",
      " '\\n'\n",
      " '           0       0.80      0.77      0.78     38613\\n'\n",
      " '           1       0.78      0.81      0.79     38613\\n'\n",
      " '\\n'\n",
      " '    accuracy                           0.79     77226\\n'\n",
      " '   macro avg       0.79      0.79      0.79     77226\\n'\n",
      " 'weighted avg       0.79      0.79      0.79     77226\\n')\n"
     ]
    }
   ],
   "source": [
    "from sklearn.metrics import classification_report\n",
    "\n",
    "train_pred = clsf.predict(x_train)\n",
    "pprint(classification_report(y_train, train_pred))"
   ]
  },
  {
   "cell_type": "code",
   "execution_count": 82,
   "metadata": {},
   "outputs": [
    {
     "name": "stdout",
     "output_type": "stream",
     "text": [
      "('              precision    recall  f1-score   support\\n'\n",
      " '\\n'\n",
      " '           0       0.51      0.67      0.58      9656\\n'\n",
      " '           1       0.51      0.34      0.41      9656\\n'\n",
      " '\\n'\n",
      " '    accuracy                           0.51     19312\\n'\n",
      " '   macro avg       0.51      0.51      0.49     19312\\n'\n",
      " 'weighted avg       0.51      0.51      0.49     19312\\n')\n"
     ]
    }
   ],
   "source": [
    "from sklearn.metrics import classification_report\n",
    "\n",
    "test_pred = clsf.predict(x_test)\n",
    "pprint(classification_report(y_test, test_pred))"
   ]
  },
  {
   "cell_type": "code",
   "execution_count": null,
   "metadata": {},
   "outputs": [],
   "source": []
  },
  {
   "cell_type": "code",
   "execution_count": null,
   "metadata": {},
   "outputs": [],
   "source": []
  },
  {
   "cell_type": "code",
   "execution_count": null,
   "metadata": {},
   "outputs": [],
   "source": []
  }
 ],
 "metadata": {
  "kernelspec": {
   "display_name": "Python 3",
   "language": "python",
   "name": "python3"
  },
  "language_info": {
   "codemirror_mode": {
    "name": "ipython",
    "version": 3
   },
   "file_extension": ".py",
   "mimetype": "text/x-python",
   "name": "python",
   "nbconvert_exporter": "python",
   "pygments_lexer": "ipython3",
   "version": "3.8.10"
  }
 },
 "nbformat": 4,
 "nbformat_minor": 4
}
